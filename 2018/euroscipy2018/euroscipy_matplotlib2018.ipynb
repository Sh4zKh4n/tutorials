{
 "cells": [
  {
   "cell_type": "markdown",
   "metadata": {},
   "source": [
    "# Matplotlib Tutorial - EuroSciPy 2018\n",
    "\n",
    "Alexandre de Siqueira, University of Campinas"
   ]
  },
  {
   "cell_type": "markdown",
   "metadata": {},
   "source": [
    "`euroscipy_matplotlib2018.ipynb`\n",
    "\n",
    "Support material for the Matplotlib Tutorial at EuroSciPy 2018.\n",
    "\n",
    "* Author: Alexandre de Siqueira\n",
    "* Contact: afdesiqueira [at] gmail.com\n",
    "\n",
    "In order to cite this material, please use the reference below (this is a Chicago-like style):\n",
    "\n",
    "* _de Siqueira, Alexandre Fioravante. \"Support material for the Matplotlib Tutorial at EuroSciPy 2018\". EuroSciPy. 2018, Aug 29. Access date: < ACCESS DATE >._\n",
    "\n",
    "Copyright (C) 2018 Alexandre Fioravante de Siqueira\n",
    "\n",
    "This program is free software: you can redistribute it and/or modify it\n",
    "under the terms of the GNU General Public License as published by the Free\n",
    "Software Foundation, either version 3 of the License, or (at your option)\n",
    "any later version.\n",
    "\n",
    "This program is distributed in the hope that it will be useful, but WITHOUT\n",
    "ANY WARRANTY; without even the implied warranty of MERCHANTABILITY or\n",
    "FITNESS FOR A PARTICULAR PURPOSE. See the GNU General Public License for\n",
    "more details.\n",
    "\n",
    "You should have received a copy of the GNU General Public License along\n",
    "with this program. If not, see <http://www.gnu.org/licenses/>."
   ]
  },
  {
   "cell_type": "markdown",
   "metadata": {},
   "source": [
    "## What is Matplotlib?\n",
    "\n",
    "* Python 2D plotting library.\n",
    "* Produces publication quality figures.\n",
    "* Can be used in:\n",
    "    * Python scripts;\n",
    "    * Python and IPython shells;\n",
    "    * Jupyter notebook;\n",
    "    * web application servers;\n",
    "    * several (four) graphical user interface toolkits."
   ]
  },
  {
   "cell_type": "markdown",
   "metadata": {},
   "source": [
    "## Importing some packages"
   ]
  },
  {
   "cell_type": "code",
   "execution_count": null,
   "metadata": {},
   "outputs": [],
   "source": [
    "import matplotlib.pyplot as plt\n",
    "import numpy as np\n",
    "\n",
    "%matplotlib inline"
   ]
  },
  {
   "cell_type": "markdown",
   "metadata": {},
   "source": [
    "* Using `%matplotlib inline`, the output of plotting commands is displayed directly below the code cell that produced it. The resulting plots are stored in the notebook document."
   ]
  },
  {
   "cell_type": "markdown",
   "metadata": {},
   "source": [
    "# Creating a figure\n",
    "\n",
    "* A figure is the recipient where you put your plots.\n",
    "* Several (really this time) parameters. Check them at <https://matplotlib.org/api/_as_gen/matplotlib.pyplot.figure.html>."
   ]
  },
  {
   "cell_type": "code",
   "execution_count": null,
   "metadata": {},
   "outputs": [],
   "source": [
    "plt.figure()"
   ]
  },
  {
   "cell_type": "markdown",
   "metadata": {},
   "source": [
    "* We'll focus on one parameter: `figsize=(width, height)`. `width` and `height` are given in inches."
   ]
  },
  {
   "cell_type": "markdown",
   "metadata": {},
   "source": [
    "## `plot()`, the Swiss Army knife\n",
    "\n",
    "* In this example, we use the function `np.arange()` to create `x`, an array with 10 numbers from zero to ten."
   ]
  },
  {
   "cell_type": "code",
   "execution_count": null,
   "metadata": {},
   "outputs": [],
   "source": [
    "x = np.arange(start=0, stop=11)  # then, x last element will be 10\n",
    "print(x)"
   ]
  },
  {
   "cell_type": "markdown",
   "metadata": {},
   "source": [
    "* Let's then plot a sinusoid (a sine wave) using this array."
   ]
  },
  {
   "cell_type": "code",
   "execution_count": null,
   "metadata": {},
   "outputs": [],
   "source": [
    "plt.figure(figsize=(15, 10))  # width = 15 inches; height = 10 inches\n",
    "plt.plot(x, np.sin(x))"
   ]
  },
  {
   "cell_type": "markdown",
   "metadata": {},
   "source": [
    "* Check that our sinusoid isn't \"wavy\" enough. We need more points for that."
   ]
  },
  {
   "cell_type": "code",
   "execution_count": null,
   "metadata": {},
   "outputs": [],
   "source": [
    "x = np.arange(start=0, stop=10.1, step=0.1)\n",
    "print(x)"
   ]
  },
  {
   "cell_type": "code",
   "execution_count": null,
   "metadata": {},
   "outputs": [],
   "source": [
    "plt.figure(figsize=(15, 10))\n",
    "plt.plot(x, np.sin(x))"
   ]
  },
  {
   "cell_type": "markdown",
   "metadata": {},
   "source": [
    "## Changing the appearance of your plots\n",
    "\n",
    "* Let's change the lines, colors, add title and legend on our plots."
   ]
  },
  {
   "cell_type": "markdown",
   "metadata": {},
   "source": [
    "### Line styles\n",
    "\n",
    "* Using the parameter `linestyle`, you can use the following line styles in your plots:\n",
    "\n",
    "| Character | Description         |\n",
    "|-----------|---------------------|\n",
    "| `-`       | Solid line style    |\n",
    "| `--`      | Dashed line style   |\n",
    "| `-.`      | Dash-dot line style |\n",
    "| `:`       | Dotted line style   |\n",
    "| `steps`   | Stepped line style  |\n",
    "\n",
    "* This example shows `log()` using a dash-dot line."
   ]
  },
  {
   "cell_type": "code",
   "execution_count": null,
   "metadata": {},
   "outputs": [],
   "source": [
    "x = np.arange(start=0.1, stop=10.1, step=0.1)\n",
    "plt.figure(figsize=(15, 10))\n",
    "plt.plot(x, np.log(x), linestyle='-.')  # changing the line style."
   ]
  },
  {
   "cell_type": "markdown",
   "metadata": {},
   "source": [
    "* **Try it yourself!** Fill the code below to plot `exp()` using a dashed line."
   ]
  },
  {
   "cell_type": "code",
   "execution_count": null,
   "metadata": {},
   "outputs": [],
   "source": [
    "# plt.figure(figsize=(15, 10))\n",
    "# plt.plot(x, )  # Fill this line"
   ]
  },
  {
   "cell_type": "markdown",
   "metadata": {},
   "source": [
    "### Markers\n",
    "\n",
    "* Using the parameter `marker`, you can use the following markers in your plots:\n",
    "\n",
    "| Character           | Description            |\n",
    "|---------------------|------------------------|\n",
    "| `.`                 | Point marker           |\n",
    "| `,`                 | Pixel marker           |\n",
    "| `o`                 | Circle marker          |\n",
    "| `v`                 | Triangle down marker   |\n",
    "| `^`                 | Triangle up marker     |\n",
    "| `<`                 | Triangle left marker   |\n",
    "| `>`                 | Triangle right marker  |\n",
    "| `1`                 | Tri_down marker        |\n",
    "| `2`                 | Tri_up marker          |\n",
    "| `3`                 | Tri_left marker        |\n",
    "| `4`                 | Tri_right marker       |\n",
    "| `s`                 | Square marker          |\n",
    "| `p`                 | Pentagon marker        |\n",
    "| `*`                 | Star marker            |\n",
    "| `h` or `H`          | Hexagon marker         |\n",
    "| `+`                 | Plus marker            |\n",
    "| `x`                 | X marker               |\n",
    "| `D`                 | Diamond marker         |\n",
    "| `d`                 | Thin diamond marker    |\n",
    "| <code>&#124;</code> | Vertical line marker   |\n",
    "| `_`                 | Horizontal line marker |\n",
    "\n",
    "* More at <https://matplotlib.org/api/markers_api.html>.\n",
    "* This example shows `cos()` using the thin diamond marker. When using the parameter `marker`, the parameter `linestyle` should be set to `''`; for more on that, please check <https://github.com/matplotlib/matplotlib/issues/4338/#issuecomment-93521497>."
   ]
  },
  {
   "cell_type": "code",
   "execution_count": null,
   "metadata": {},
   "outputs": [],
   "source": [
    "x = np.arange(start=0.1, stop=10.1, step=0.1)\n",
    "plt.figure(figsize=(15, 10))\n",
    "plt.plot(x, np.cos(x), marker='d', linestyle='')  # changing the marker."
   ]
  },
  {
   "cell_type": "markdown",
   "metadata": {},
   "source": [
    "* **Try it yourself!** Fill the code below to plot `cos(exp())` using the X marker."
   ]
  },
  {
   "cell_type": "code",
   "execution_count": null,
   "metadata": {},
   "outputs": [],
   "source": [
    "# x = np.arange(start=0.1, stop=4.1, step=0.001)\n",
    "# plt.figure(figsize=(15, 10))\n",
    "# plt.plot(x, )  # Fill this line"
   ]
  },
  {
   "cell_type": "markdown",
   "metadata": {},
   "source": [
    "### Colors\n",
    "\n",
    "* Using the parameter `color`, you can use the following color abbreviations in your plots:\n",
    "\n",
    "| Character | Color   |\n",
    "|-----------|---------|\n",
    "| `b`       | blue    |\n",
    "| `g`       | green   |\n",
    "| `r`       | red     |\n",
    "| `c`       | cyan    |\n",
    "| `m`       | magenta |\n",
    "| `y`       | yellow  |\n",
    "| `k`       | black   |\n",
    "| `w`       | white   |\n",
    "\n",
    "* If the color is the only part of the format string, you can use also hex strings (for example, `#008000`).\n",
    "* More on colors at <https://matplotlib.org/api/_as_gen/matplotlib.pyplot.plot.html> > Notes > Colors and <https://matplotlib.org/api/colors_api.html#module-matplotlib.colors>.\n",
    "* This example shows `sin(tan())` using a nice orange."
   ]
  },
  {
   "cell_type": "code",
   "execution_count": null,
   "metadata": {},
   "outputs": [],
   "source": [
    "x = np.arange(start=0.1, stop=2.1, step=0.001)\n",
    "plt.figure(figsize=(15, 10))\n",
    "plt.plot(x, np.sin(np.tan(x)), color='#FF4300')  # changing the marker."
   ]
  },
  {
   "cell_type": "markdown",
   "metadata": {},
   "source": [
    "* **Try it yourself!** Fill the code below to plot `cos()**5` using colors different than the default."
   ]
  },
  {
   "cell_type": "code",
   "execution_count": null,
   "metadata": {},
   "outputs": [],
   "source": [
    "# x = np.arange(start=0.1, stop=10.1, step=0.001)\n",
    "# plt.figure(figsize=(15, 10))\n",
    "# plt.plot(x, )  # Fill this line"
   ]
  },
  {
   "cell_type": "markdown",
   "metadata": {},
   "source": [
    "* When using markers, `color` changes the color of the entire marker. To change the color only in the inside, use the parameter `markerfacecolor`. Check this example, that uses only `color`:"
   ]
  },
  {
   "cell_type": "code",
   "execution_count": null,
   "metadata": {},
   "outputs": [],
   "source": [
    "x = np.arange(start=0.05, stop=10.1, step=0.01)\n",
    "plt.figure(figsize=(15, 10))\n",
    "plt.plot(x, np.cos(np.log(x/16)),\n",
    "         linestyle='',\n",
    "         marker='*',\n",
    "         color='y',\n",
    "         markersize=10)"
   ]
  },
  {
   "cell_type": "markdown",
   "metadata": {},
   "source": [
    "* Now the same example, combining `color` and `markerfacecolor`:"
   ]
  },
  {
   "cell_type": "code",
   "execution_count": null,
   "metadata": {},
   "outputs": [],
   "source": [
    "x = np.arange(start=0.05, stop=10.1, step=0.01)\n",
    "plt.figure(figsize=(15, 10))\n",
    "plt.plot(x, np.cos(np.log(x/16)),\n",
    "         linestyle='',\n",
    "         marker='*',\n",
    "         color='k',\n",
    "         markersize=10,\n",
    "         markerfacecolor='y')"
   ]
  },
  {
   "cell_type": "markdown",
   "metadata": {},
   "source": [
    "* **Try it yourself!** Change the previous plot using colors different than the used ones."
   ]
  },
  {
   "cell_type": "code",
   "execution_count": null,
   "metadata": {},
   "outputs": [],
   "source": [
    "# x = np.arange(start=0.05, stop=10.1, step=0.01)\n",
    "# plt.figure(figsize=(15, 10))\n",
    "# plt.plot(x, )"
   ]
  },
  {
   "cell_type": "markdown",
   "metadata": {},
   "source": [
    "### Width of the lines, size of the markers\n",
    "\n",
    "* To increase or decrease the thickness of the plot lines, or the size of each marker, use the parameters `linewidth` and `markersize`, respectively. Using our senoids, for example:"
   ]
  },
  {
   "cell_type": "code",
   "execution_count": null,
   "metadata": {},
   "outputs": [],
   "source": [
    "plt.figure(figsize=(15, 10))\n",
    "plt.plot(x, np.sin(x), linestyle='--', linewidth=10, color='r')"
   ]
  },
  {
   "cell_type": "code",
   "execution_count": null,
   "metadata": {},
   "outputs": [],
   "source": [
    "# Note: a cosine wave is also considered a sinusoid; it has the same shape,\n",
    "# being only out of phase when compared to the sine wave.\n",
    "# cos(x - pi/2) == sin(x)\n",
    "\n",
    "x = np.arange(start=0.1, stop=10.1, step=0.1)\n",
    "plt.figure(figsize=(15, 10))\n",
    "plt.plot(x, np.cos(x), marker='d', linestyle='', markersize=15, color='g')"
   ]
  },
  {
   "cell_type": "markdown",
   "metadata": {},
   "source": [
    "* **Try it yourself!** Change the previous plots using different sizes."
   ]
  },
  {
   "cell_type": "code",
   "execution_count": null,
   "metadata": {},
   "outputs": [],
   "source": [
    "# x = np.arange(start=0.1, stop=10.1, step=0.1)\n",
    "# plt.figure(figsize=(15, 10))\n",
    "# plt.plot(x, )"
   ]
  },
  {
   "cell_type": "markdown",
   "metadata": {},
   "source": [
    "### Limits in `x` and `y`\n",
    "\n",
    "* To change the limits in your plot, use `xlim((xmin, xmax))` for `x` and `ylim((ymin, ymax))` for `y`. For example:"
   ]
  },
  {
   "cell_type": "code",
   "execution_count": null,
   "metadata": {},
   "outputs": [],
   "source": [
    "x = np.arange(start=0.1, stop=10, step=0.0001)\n",
    "plt.figure(figsize=(15, 10))\n",
    "plt.plot(x, np.sin(np.tan(x)), linewidth=5, color='m')\n",
    "plt.xlim((1, 1.5))"
   ]
  },
  {
   "cell_type": "code",
   "execution_count": null,
   "metadata": {},
   "outputs": [],
   "source": [
    "x = np.arange(start=0.05, stop=10.1, step=0.01)\n",
    "plt.figure(figsize=(15, 10))\n",
    "plt.plot(x, np.cos(np.log(x/16)), linewidth=5, color='c')\n",
    "plt.ylim(-1, 0)"
   ]
  },
  {
   "cell_type": "markdown",
   "metadata": {},
   "source": [
    "* You can also use `axis((xmin, xmax, ymin, ymax))` to change all limits at once:"
   ]
  },
  {
   "cell_type": "code",
   "execution_count": null,
   "metadata": {},
   "outputs": [],
   "source": [
    "x = np.arange(start=0.1, stop=10, step=0.0001)\n",
    "plt.figure(figsize=(15, 10))\n",
    "plt.plot(x, np.sin(np.tan(x)), linestyle='--', linewidth=5, color='k')\n",
    "plt.axis((1, 1.5, 0, 1.5))"
   ]
  },
  {
   "cell_type": "markdown",
   "metadata": {},
   "source": [
    "### Putting a grid\n",
    "\n",
    "* To put a grid on your plots, use `grid(True)`."
   ]
  },
  {
   "cell_type": "code",
   "execution_count": null,
   "metadata": {},
   "outputs": [],
   "source": [
    "x = np.arange(start=0.1, stop=2.1, step=0.001)\n",
    "plt.figure(figsize=(15, 10))\n",
    "plt.plot(x, np.cos(np.sinh(x)))\n",
    "plt.grid(True)"
   ]
  },
  {
   "cell_type": "markdown",
   "metadata": {},
   "source": [
    "* **Try it yourself!** Scale the following plot between `(0, 5)` in `x` and `(-0.5, 0.5)` in `y`. Add also a grid."
   ]
  },
  {
   "cell_type": "code",
   "execution_count": null,
   "metadata": {},
   "outputs": [],
   "source": [
    "# x = np.arange(start=-7.1, stop=7.1, step=0.001)\n",
    "# plt.figure(figsize=(15, 10))\n",
    "# plt.plot(x, np.cos(np.cosh(x)))  # changing the marker."
   ]
  },
  {
   "cell_type": "markdown",
   "metadata": {},
   "source": [
    "### Adding a title and axes labels\n",
    "\n",
    "* You can add a title to your plots using `title()`. For example:"
   ]
  },
  {
   "cell_type": "code",
   "execution_count": null,
   "metadata": {},
   "outputs": [],
   "source": [
    "x = np.arange(start=0, stop=10.1, step=0.1)\n",
    "plt.figure(figsize=(15, 10))\n",
    "plt.plot(x, np.sin(x))\n",
    "plt.xlim((0, 2*np.pi))\n",
    "plt.title('A sinusoid in the interval $[0, 2\\pi]$', fontsize=25)  # It accepts LaTeX entries!"
   ]
  },
  {
   "cell_type": "markdown",
   "metadata": {},
   "source": [
    "* The parameter `fontsize` controls the font size.\n",
    "* To add labels to your axes, use `xlabel()` for `x` and `ylabel()` for `y`."
   ]
  },
  {
   "cell_type": "code",
   "execution_count": null,
   "metadata": {},
   "outputs": [],
   "source": [
    "x = np.arange(start=0, stop=10.1, step=0.1)\n",
    "plt.figure(figsize=(15, 10))\n",
    "plt.plot(x, np.sin(x))\n",
    "plt.xlim((0, 2*np.pi))\n",
    "plt.title('A sinusoid in the interval $[0, 2\\pi]$', fontsize=25)\n",
    "plt.xlabel('Periodic time (t)', fontsize=22)\n",
    "plt.ylabel('Amplitude', fontsize=22)"
   ]
  },
  {
   "cell_type": "markdown",
   "metadata": {},
   "source": [
    "* **Try it yourself!** Set labels and title for some of our previous plots. Use also the parameter `fontsize` to increase the font size.\n",
    "* Check how you could add different text in the plot using <https://matplotlib.org/users/text_intro.html>."
   ]
  },
  {
   "cell_type": "code",
   "execution_count": null,
   "metadata": {},
   "outputs": [],
   "source": [
    "# x = np.arange(start=0, stop=10.1, step=0.1)\n",
    "# plt.figure(figsize=(15, 10))\n",
    "# plt.plot(x, np.sin(x))\n",
    "# plt.xlim((0, 2*np.pi))\n",
    "# plt.title()\n",
    "# plt.xlabel()\n",
    "# plt.ylabel()"
   ]
  },
  {
   "cell_type": "markdown",
   "metadata": {},
   "source": [
    "### Adding legends\n",
    "\n",
    "* You can add a legend in your plot using `legend()`, as in the following example:"
   ]
  },
  {
   "cell_type": "code",
   "execution_count": null,
   "metadata": {},
   "outputs": [],
   "source": [
    "x = np.arange(start=0, stop=10.1, step=0.1)\n",
    "plt.figure(figsize=(15, 10))\n",
    "plt.plot(x, np.sin(x))\n",
    "plt.xlim((0, 2*np.pi))\n",
    "plt.legend(['$\\sin(x), x \\in [0, 2\\pi]$'], fontsize=20)"
   ]
  },
  {
   "cell_type": "markdown",
   "metadata": {},
   "source": [
    "* You can also change the location of your legend, using the strings or codes below:\n",
    "\n",
    "| Location String | Location Code |\n",
    "|-----------------|---------------|\n",
    "| `best`          | 0             |\n",
    "| `upper right`   | 1             |\n",
    "| `upper left`    | 2             |\n",
    "| `lower left`    | 3             |\n",
    "| `lower right`   | 4             |\n",
    "| `right`         | 5             |\n",
    "| `center left`   | 6             |\n",
    "| `center right`  | 7             |\n",
    "| `lower center`  | 8             |\n",
    "| `upper center`  | 9             |\n",
    "| `center`        | 10            |\n",
    "\n",
    "* For instance, the legend on the previous plot could be added to the lower left:"
   ]
  },
  {
   "cell_type": "code",
   "execution_count": null,
   "metadata": {},
   "outputs": [],
   "source": [
    "x = np.arange(start=0, stop=10.1, step=0.1)\n",
    "plt.figure(figsize=(15, 10))\n",
    "plt.plot(x, np.sin(x))\n",
    "plt.xlim((0, 2*np.pi))\n",
    "plt.legend(['$\\sin(x), x \\in [0, 2\\pi]$'], fontsize=20, loc='lower left')"
   ]
  },
  {
   "cell_type": "markdown",
   "metadata": {},
   "source": [
    "## Adding several plots in the same window\n",
    "\n",
    "* Now, let's add more than one plot in the same window.\n",
    "* We can do this in two ways:\n",
    "    * Using several plots in the same `plot()` function;\n",
    "    * Using different `plot()` functions.\n",
    "* The first case:"
   ]
  },
  {
   "cell_type": "code",
   "execution_count": null,
   "metadata": {},
   "outputs": [],
   "source": [
    "x = np.arange(start=-2*np.pi, stop=2*np.pi, step=0.1)\n",
    "plt.figure(figsize=(15, 10))\n",
    "plt.plot(x, np.sin(x), x, np.cos(x))\n",
    "plt.legend(['$\\sin(x)$', '$\\cos(x)$'], fontsize=20)  # How to put two legends in one plot"
   ]
  },
  {
   "cell_type": "markdown",
   "metadata": {},
   "source": [
    "* The second case:"
   ]
  },
  {
   "cell_type": "code",
   "execution_count": null,
   "metadata": {},
   "outputs": [],
   "source": [
    "x = np.arange(start=-2*np.pi, stop=2*np.pi, step=0.1)\n",
    "plt.figure(figsize=(15, 10))\n",
    "plt.plot(x, np.sin(x))\n",
    "plt.plot(x, np.cos(x))\n",
    "plt.legend(['$\\sin(x)$', '$\\cos(x)$'], fontsize=20)"
   ]
  },
  {
   "cell_type": "markdown",
   "metadata": {},
   "source": [
    "* Now, let's put lots of plots in one window, using everything we studied so far:"
   ]
  },
  {
   "cell_type": "code",
   "execution_count": null,
   "metadata": {},
   "outputs": [],
   "source": [
    "x = np.arange(start=0.01, stop=4*np.pi, step=0.01)\n",
    "plt.figure(figsize=(15, 10))\n",
    "\n",
    "plt.plot(x, np.sin(x), linestyle='-', linewidth=3)\n",
    "plt.plot(x, np.cos(x), linestyle='--', linewidth=3)\n",
    "plt.plot(x, np.tan(x), linestyle='-.', linewidth=3)\n",
    "plt.plot(x, np.exp(x), linestyle=':', linewidth=3)\n",
    "plt.plot(x, np.log(x), linestyle='steps', linewidth=3)\n",
    "\n",
    "plt.legend(['Sine', 'Cosine', 'Tangent', 'Exponential', 'Logarithm'], fontsize=15, loc='upper right')\n",
    "\n",
    "plt.axis([0, 10, -2, 4])"
   ]
  },
  {
   "cell_type": "markdown",
   "metadata": {},
   "source": [
    "* **Try it yourself!** Define different plots in the last code."
   ]
  },
  {
   "cell_type": "code",
   "execution_count": null,
   "metadata": {},
   "outputs": [],
   "source": [
    "# x = np.arange(start=0.01, stop=4*np.pi, step=0.01)\n",
    "# plt.figure(figsize=(15, 10))\n",
    "\n",
    "# plt.plot()\n",
    "# plt.plot()\n",
    "# plt.plot()\n",
    "# plt.plot()\n",
    "# plt.plot()\n",
    "\n",
    "# plt.legend()\n",
    "\n",
    "# plt.axis()"
   ]
  },
  {
   "cell_type": "markdown",
   "metadata": {},
   "source": [
    "## Adding plots in different areas of the same window\n",
    "\n",
    "* Instead of working in all plots at the same window, we can use subplots.\n",
    "* The function `subplots()` divides the window according to the parameters `nrows` and `ncols`, which receive the number of rows and cols respectively."
   ]
  },
  {
   "cell_type": "code",
   "execution_count": null,
   "metadata": {},
   "outputs": [],
   "source": [
    "x = np.arange(start=-2*np.pi, stop=2*np.pi, step=0.01)\n",
    "fig, ax = plt.subplots(nrows=2, ncols=1, figsize=(15, 10))"
   ]
  },
  {
   "cell_type": "markdown",
   "metadata": {},
   "source": [
    "* Check that we divided a window in two rows. They are represented by the variable `ax`:"
   ]
  },
  {
   "cell_type": "code",
   "execution_count": null,
   "metadata": {},
   "outputs": [],
   "source": [
    "fig, ax = plt.subplots(nrows=2, ncols=1, figsize=(15, 10))\n",
    "\n",
    "# ax[0], plot number one\n",
    "ax[0].plot(x, np.sin(x), linestyle=':', color='r', linewidth=3)\n",
    "ax[0].set_title('$\\sin(x)$')\n",
    "ax[0].set_xlabel('Periodic time (t)')\n",
    "ax[0].set_ylabel('Amplitude')\n",
    "\n",
    "# ax[1], plot number one\n",
    "ax[1].plot(x, np.cos(x), linestyle='-.', color='m', linewidth=3)\n",
    "ax[1].set_title('$\\cos(x)$')\n",
    "ax[1].set_xlabel('Periodic time (t)')\n",
    "ax[1].set_ylabel('Amplitude')"
   ]
  },
  {
   "cell_type": "markdown",
   "metadata": {},
   "source": [
    "* Now the same plots in columns, instead of rows:"
   ]
  },
  {
   "cell_type": "code",
   "execution_count": null,
   "metadata": {},
   "outputs": [],
   "source": [
    "fig, ax = plt.subplots(nrows=1, ncols=2, figsize=(15, 8))\n",
    "\n",
    "# ax[0], plot number one\n",
    "ax[0].plot(x, np.sin(x), linestyle=':', color='r', linewidth=3)\n",
    "ax[0].set_title('$\\sin(x)$')\n",
    "ax[0].set_xlabel('Periodic time (t)')\n",
    "ax[0].set_ylabel('Amplitude')\n",
    "\n",
    "# ax[1], plot number one\n",
    "ax[1].plot(x, np.cos(x), linestyle='-.', color='m', linewidth=3)\n",
    "ax[1].set_title('$\\cos(x)$')\n",
    "ax[1].set_xlabel('Periodic time (t)')\n",
    "ax[1].set_ylabel('Amplitude')\n",
    "ax[1].grid(True)"
   ]
  },
  {
   "cell_type": "markdown",
   "metadata": {},
   "source": [
    "* For more than two plots, `ax` receives two coordinates. One represent the row, and the other the column:"
   ]
  },
  {
   "cell_type": "code",
   "execution_count": null,
   "metadata": {},
   "outputs": [],
   "source": [
    "x = np.arange(start=0.01, stop=4*np.pi, step=0.1)\n",
    "fig, ax = plt.subplots(nrows=2, ncols=2, figsize=(15, 15))\n",
    "\n",
    "ax[0, 0].plot(x, np.sin(x), linestyle=':', color='r', linewidth=3)\n",
    "ax[0, 1].plot(x, np.cos(x), linestyle='steps', color='m', linewidth=3)\n",
    "ax[1, 0].plot(x, np.tan(x), linestyle='--', color='c', linewidth=3)\n",
    "ax[1, 1].plot(x, np.exp(x), linestyle='-.', color='g', linewidth=3)"
   ]
  },
  {
   "cell_type": "markdown",
   "metadata": {},
   "source": [
    "* For more difficult settings of subplots, please check Jake VanderPlas's Python Data Science Handbook: <https://jakevdp.github.io/PythonDataScienceHandbook/04.08-multiple-subplots.html>."
   ]
  },
  {
   "cell_type": "markdown",
   "metadata": {},
   "source": [
    "## Different types of plots\n",
    "\n",
    "* There are other functions you could use for your plots! Let's check some of them."
   ]
  },
  {
   "cell_type": "markdown",
   "metadata": {},
   "source": [
    "### Histograms"
   ]
  },
  {
   "cell_type": "code",
   "execution_count": null,
   "metadata": {},
   "outputs": [],
   "source": [
    "rand_arr = np.random.randint(low=0, high=101, size=100)\n",
    "plt.figure(figsize=(15, 10))\n",
    "plt.hist(rand_arr)\n",
    "plt.title('Frequency distribution of random integers in $[0, 100]$')\n",
    "plt.ylabel('Frequency')"
   ]
  },
  {
   "cell_type": "markdown",
   "metadata": {},
   "source": [
    "* You probably will have a different histogram than me. To ensure we can reproduce the results, let's set a seed using `random.seed()`:"
   ]
  },
  {
   "cell_type": "code",
   "execution_count": null,
   "metadata": {},
   "outputs": [],
   "source": [
    "np.random.seed(seed=0)  # Setting the seed 0\n",
    "rand_arr = np.random.randint(low=0, high=101, size=100)\n",
    "\n",
    "plt.figure(figsize=(15, 10))\n",
    "plt.hist(rand_arr)\n",
    "plt.title('Frequency distribution of random integers in $[0, 100]$')\n",
    "plt.ylabel('Frequency')"
   ]
  },
  {
   "cell_type": "markdown",
   "metadata": {},
   "source": [
    "* You can choose the histogram colors using the parameters `facecolor` and `edgecolor`:"
   ]
  },
  {
   "cell_type": "code",
   "execution_count": null,
   "metadata": {},
   "outputs": [],
   "source": [
    "np.random.seed(seed=0)\n",
    "rand_arr = np.random.randint(low=0, high=101, size=100)\n",
    "\n",
    "plt.figure(figsize=(15, 10))\n",
    "plt.hist(rand_arr, facecolor='lightblue', edgecolor='w')\n",
    "plt.title('Frequency distribution of random integers in $[0, 100]$')\n",
    "plt.ylabel('Frequency')"
   ]
  },
  {
   "cell_type": "markdown",
   "metadata": {},
   "source": [
    "* **Try it yourself!** Define different seeds, face and edge colors for the previous histogram."
   ]
  },
  {
   "cell_type": "markdown",
   "metadata": {},
   "source": [
    "### Bars\n",
    "\n",
    "* You can use the function `bar()` to obtain simple bar plots. The number of rows in the input array divides the groups, and the columns divides the number of bars in each group. For example:"
   ]
  },
  {
   "cell_type": "code",
   "execution_count": null,
   "metadata": {},
   "outputs": [],
   "source": [
    "np.random.seed(seed=0)\n",
    "counts = np.random.randint(low=0, high=101, size=(2, 5))\n",
    "\n",
    "# Defining where counts will be plotted.\n",
    "x_group1 = np.asarray((1.0, 3.0, 5.0, 7.0, 9.0))\n",
    "x_group2 = x_group1 + 0.5\n",
    "features = ('Year 1', 'Year 2', 'Year 3', 'Year 4', 'Year 5')\n",
    "\n",
    "plt.figure(figsize=(15, 10))\n",
    "\n",
    "# Now, defining where the ticks will be drawn.\n",
    "# The function xticks() receives the location and the labels of the ticks.\n",
    "plt.xticks((x_group1 + x_group2)/2, features)\n",
    "\n",
    "plt.bar(x_group1, counts[0], width=0.5)\n",
    "plt.bar(x_group2, counts[1], width=0.5)"
   ]
  },
  {
   "cell_type": "markdown",
   "metadata": {},
   "source": [
    "* **Try it yourself!** Define different colors and values for each bar. Add also a new variable."
   ]
  },
  {
   "cell_type": "code",
   "execution_count": null,
   "metadata": {},
   "outputs": [],
   "source": [
    "np.random.seed(seed=0)\n",
    "counts = np.random.randint(low=0, high=101, size=(2, 5))\n",
    "\n",
    "# Defining where counts will be plotted.\n",
    "x_group1 = np.asarray((1.0, 3.0, 5.0, 7.0, 9.0))\n",
    "x_group2 = x_group1 + 0.5\n",
    "features = ('Year 1', 'Year 2', 'Year 3', 'Year 4', 'Year 5')\n",
    "\n",
    "plt.figure(figsize=(15, 10))\n",
    "\n",
    "#plt.xticks((x_group1 + x_group2)/2, features)\n",
    "\n",
    "#plt.bar(x_group1, counts[0], width=0.5)\n",
    "#plt.bar(x_group2, counts[1], width=0.5)"
   ]
  },
  {
   "cell_type": "markdown",
   "metadata": {},
   "source": [
    "### Stem plots\n",
    "\n",
    "* Stem plots can be used to show a discrete sequence of data. For that, use the function `stem()`.\n",
    "* Using, for example, our very first plot:"
   ]
  },
  {
   "cell_type": "code",
   "execution_count": null,
   "metadata": {},
   "outputs": [],
   "source": [
    "x = np.arange(start=0, stop=11)\n",
    "plt.figure(figsize=(15, 10))\n",
    "plt.stem(x, np.sin(x))"
   ]
  },
  {
   "cell_type": "markdown",
   "metadata": {},
   "source": [
    "* We can use the function `setp()` to set the stem plot properties:"
   ]
  },
  {
   "cell_type": "code",
   "execution_count": null,
   "metadata": {},
   "outputs": [],
   "source": [
    "x = np.arange(start=0, stop=11)\n",
    "plt.figure(figsize=(15, 10))\n",
    "\n",
    "# Let's receive the variables markerline, stemlines, baseline from stem().\n",
    "markerline, stemlines, baseline = plt.stem(x, np.sin(x))\n",
    "\n",
    "# Now, let's use the function setp() to change them.\n",
    "plt.setp(baseline, color='k', linewidth=2)\n",
    "plt.setp(stemlines, color='k', linestyle='-.', linewidth=2)\n",
    "plt.setp(markerline, color='k', markerfacecolor='y', marker='*', markersize=15)"
   ]
  },
  {
   "cell_type": "markdown",
   "metadata": {},
   "source": [
    "### Pie plots\n",
    "\n",
    "* We can plot simple pie charts using the function `pie()`:"
   ]
  },
  {
   "cell_type": "code",
   "execution_count": null,
   "metadata": {},
   "outputs": [],
   "source": [
    "# Inspired by Pie Demo2's example:\n",
    "# <https://matplotlib.org/gallery/pie_and_polar_charts/pie_demo2.html#sphx-glr-gallery-pie-and-polar-charts-pie-demo2-py>\n",
    "\n",
    "labels = ('Frogs', 'Hogs', 'Dogs', 'Logs')\n",
    "fracs = (15, 30, 45, 10)\n",
    "\n",
    "plt.figure(figsize=(12, 12))\n",
    "plt.pie(fracs, labels=labels)"
   ]
  },
  {
   "cell_type": "markdown",
   "metadata": {},
   "source": [
    "* To show the numbers related to each slice, use the parameter `autopct` followed by a format `fmt%pct`. Also, `pie()` accepts the parameters `explode` (separates the piece) and `shadow` (adds a shadow)."
   ]
  },
  {
   "cell_type": "code",
   "execution_count": null,
   "metadata": {},
   "outputs": [],
   "source": [
    "explode = (0, 0.05, 0, 0)\n",
    "\n",
    "plt.figure(figsize=(12, 12))\n",
    "plt.pie(fracs, labels=labels, explode=explode, autopct='%.1f%%', shadow=True)  # Try also '%.0f%%', '%.2f%%'!"
   ]
  },
  {
   "cell_type": "markdown",
   "metadata": {},
   "source": [
    "### Scatter plots\n",
    "\n",
    "* 2D scatter plots represent the relation between two variables. We can use the function `scatter()` to obtain one of them:"
   ]
  },
  {
   "cell_type": "code",
   "execution_count": null,
   "metadata": {},
   "outputs": [],
   "source": [
    "np.random.seed(seed=0)\n",
    "counts = np.random.randint(low=2, high=101, size=(2, 100))\n",
    "\n",
    "plt.figure(figsize=(15, 10))\n",
    "plt.scatter(counts[0], counts[1])"
   ]
  },
  {
   "cell_type": "markdown",
   "metadata": {},
   "source": [
    "* We can control the size of each element using the parameter `s`:"
   ]
  },
  {
   "cell_type": "code",
   "execution_count": null,
   "metadata": {},
   "outputs": [],
   "source": [
    "x = np.linspace(start=1, stop=4*np.pi, num=200)\n",
    "y = np.cos(np.exp(1/2)*x)\n",
    "\n",
    "size_scale = np.linspace(start=1, stop=75, num=len(x))\n",
    "plt.figure(figsize=(15, 10))\n",
    "plt.scatter(x, y, s=size_scale)"
   ]
  },
  {
   "cell_type": "markdown",
   "metadata": {},
   "source": [
    "* We can also use the parameter `c` to control the colors of each element:"
   ]
  },
  {
   "cell_type": "code",
   "execution_count": null,
   "metadata": {},
   "outputs": [],
   "source": [
    "x = np.linspace(start=1, stop=4*np.pi, num=200)\n",
    "y = np.cos(np.exp(1/2)*x)\n",
    "\n",
    "size_scale = np.linspace(start=10, stop=85, num=len(x))\n",
    "color_scale = np.linspace(start=1, stop=10, num=len(x))\n",
    "\n",
    "plt.figure(figsize=(15, 10))\n",
    "plt.scatter(x, y, s=size_scale, c=color_scale)"
   ]
  },
  {
   "cell_type": "markdown",
   "metadata": {},
   "source": [
    "* The color scale is given by the default colormap, `viridis`. We can change it using the function `set_cmap()`:"
   ]
  },
  {
   "cell_type": "code",
   "execution_count": null,
   "metadata": {},
   "outputs": [],
   "source": [
    "x = np.linspace(start=1, stop=4*np.pi, num=200)\n",
    "y = np.cos(np.exp(1/2)*x)\n",
    "\n",
    "size_scale = np.linspace(start=10, stop=85, num=len(x))\n",
    "color_scale = np.linspace(start=1, stop=10, num=len(x))\n",
    "\n",
    "plt.figure(figsize=(15, 10))\n",
    "plt.scatter(x, y, s=size_scale, c=color_scale)\n",
    "plt.set_cmap('tab20b')"
   ]
  },
  {
   "cell_type": "markdown",
   "metadata": {},
   "source": [
    "* A list of all available colormaps is given at <https://matplotlib.org/examples/color/colormaps_reference.html>. Another example:"
   ]
  },
  {
   "cell_type": "code",
   "execution_count": null,
   "metadata": {},
   "outputs": [],
   "source": [
    "t = np.linspace(start=0, stop=1, num=250)\n",
    "x = np.exp(t) * np.sin(100*t)\n",
    "y = np.exp(t) * np.cos(100*t)\n",
    "\n",
    "scales = np.linspace(start=55, stop=65, num=len(x))\n",
    "\n",
    "plt.figure(figsize=(15, 10))\n",
    "plt.scatter(x, y, marker='^', s=scales, c=scales)\n",
    "plt.set_cmap('rainbow')"
   ]
  },
  {
   "cell_type": "markdown",
   "metadata": {},
   "source": [
    "## An example using lots of stuff we used here!\n",
    "\n",
    "* Let's draw a scatter plot using some data from Brazilian GDP and life expectancy in 2013. First, we'll import the necessary packages."
   ]
  },
  {
   "cell_type": "code",
   "execution_count": null,
   "metadata": {},
   "outputs": [],
   "source": [
    "import matplotlib.lines as mlines\n",
    "import matplotlib.pyplot as plt\n",
    "import numpy as np\n",
    "import pandas as pd"
   ]
  },
  {
   "cell_type": "markdown",
   "metadata": {},
   "source": [
    "* Now we use `pandas` to read the data:"
   ]
  },
  {
   "cell_type": "code",
   "execution_count": null,
   "metadata": {},
   "outputs": [],
   "source": [
    "data_brazil = pd.read_excel('data_ibge.xls', sheet_name=2)"
   ]
  },
  {
   "cell_type": "markdown",
   "metadata": {},
   "source": [
    "* Let's make our data nicer using the color palette `5-class Dark2` from ColorBrewer2: <http://colorbrewer2.org/>"
   ]
  },
  {
   "cell_type": "code",
   "execution_count": null,
   "metadata": {},
   "outputs": [],
   "source": [
    "colors = ['#1b9e77',\n",
    "          '#d95f02',\n",
    "          '#7570b3',\n",
    "          '#e7298a',\n",
    "          '#66a61e']"
   ]
  },
  {
   "cell_type": "markdown",
   "metadata": {},
   "source": [
    "* Now we define the function `attribute_color()`, which points the color correspondent to each Brazilian region."
   ]
  },
  {
   "cell_type": "code",
   "execution_count": null,
   "metadata": {},
   "outputs": [],
   "source": [
    "def attribute_color(region, colors):\n",
    "    reg_colors = {\n",
    "        'North': colors[0],\n",
    "        'Northeast': colors[1],\n",
    "        'Southeast': colors[2],\n",
    "        'South': colors[3],\n",
    "        'Central-West': colors[4]\n",
    "    }\n",
    "    return reg_colors.get(region, 'black')"
   ]
  },
  {
   "cell_type": "markdown",
   "metadata": {},
   "source": [
    "* Now let's create the color vector `color_region`, containing each color attributed to a line from the table. "
   ]
  },
  {
   "cell_type": "code",
   "execution_count": null,
   "metadata": {},
   "outputs": [],
   "source": [
    "color_region = list()\n",
    "qty_states = len(data_brazil['Region'])\n",
    "\n",
    "for state in range(qty_states):\n",
    "    aux_color = attribute_color(data_brazil['Region'][state], colors)\n",
    "    color_region.append(aux_color)\n",
    "\n",
    "for idx, color in enumerate(color_region):\n",
    "    print(data_brazil['UF'][idx],\n",
    "          'is in region', data_brazil['Region'][idx],\n",
    "          'and receives the color', color)"
   ]
  },
  {
   "cell_type": "markdown",
   "metadata": {},
   "source": [
    "* Starting the plot!"
   ]
  },
  {
   "cell_type": "code",
   "execution_count": null,
   "metadata": {},
   "outputs": [],
   "source": [
    "fig, ax = plt.subplots(figsize=(25, 20))\n",
    "ax.scatter(x=data_brazil['LifeExpec'],\n",
    "           y=data_brazil['GDPperCapita'],\n",
    "           s=data_brazil['PopX1000'],\n",
    "           c=color_region,\n",
    "           alpha=0.6)"
   ]
  },
  {
   "cell_type": "markdown",
   "metadata": {},
   "source": [
    "* Putting title, labels and a grid."
   ]
  },
  {
   "cell_type": "code",
   "execution_count": null,
   "metadata": {},
   "outputs": [],
   "source": [
    "ax.set_title('Brazilian development in 2013, according to each state',\n",
    "          fontsize=22)\n",
    "ax.set_xlabel('Life expectancy (years)', fontsize=22)\n",
    "ax.set_ylabel('GDP per capita (R$)', fontsize=22)\n",
    "ax.grid(True)\n",
    "\n",
    "fig  # calling figure shows fig."
   ]
  },
  {
   "cell_type": "markdown",
   "metadata": {},
   "source": [
    "* Let's insert the state abbreviations into each circle."
   ]
  },
  {
   "cell_type": "code",
   "execution_count": null,
   "metadata": {},
   "outputs": [],
   "source": [
    "for state in range(len(data_brazil['UF'])):\n",
    "    ax.text(x=data_brazil['LifeExpec'][state],\n",
    "            y=data_brazil['GDPperCapita'][state],\n",
    "            s=data_brazil['UF'][state],\n",
    "            fontsize=16)\n",
    "\n",
    "fig  # calling figure shows fig."
   ]
  },
  {
   "cell_type": "markdown",
   "metadata": {},
   "source": [
    "* Now we adapt a legend presenting the regions using a 2D object with the colors we defined previously. First we define the regions:"
   ]
  },
  {
   "cell_type": "code",
   "execution_count": null,
   "metadata": {},
   "outputs": [],
   "source": [
    "regions = ['North',\n",
    "           'Northeast',\n",
    "           'Southeast',\n",
    "           'South',\n",
    "           'Central-West']"
   ]
  },
  {
   "cell_type": "markdown",
   "metadata": {},
   "source": [
    "* Then we add the legend. Let's call it `legend1`."
   ]
  },
  {
   "cell_type": "code",
   "execution_count": null,
   "metadata": {},
   "outputs": [],
   "source": [
    "legend1_line2d = list()\n",
    "for step in range(len(colors)):\n",
    "    legend1_line2d.append(mlines.Line2D([0], [0],\n",
    "                                        linestyle='none',\n",
    "                                        marker='o',\n",
    "                                        alpha=0.6,\n",
    "                                        markersize=15,\n",
    "                                        markerfacecolor=colors[step]))\n",
    "\n",
    "legend1 = ax.legend(legend1_line2d,\n",
    "                    regions,\n",
    "                    numpoints=1,\n",
    "                    fontsize=22,\n",
    "                    loc='lower right',\n",
    "                    shadow=True)\n",
    "\n",
    "fig  # calling figure shows fig."
   ]
  },
  {
   "cell_type": "markdown",
   "metadata": {},
   "source": [
    "* Now let's put another legend, presenting a comparison of the population size for each state. Let's call it `legend2`. "
   ]
  },
  {
   "cell_type": "code",
   "execution_count": null,
   "metadata": {},
   "outputs": [],
   "source": [
    "legend2_line2d = list()\n",
    "legend2_line2d.append(mlines.Line2D([0], [0],\n",
    "                                    linestyle='none',\n",
    "                                    marker='o',\n",
    "                                    alpha=0.6,\n",
    "                                    markersize=np.sqrt(100),\n",
    "                                    markerfacecolor='#D3D3D3'))\n",
    "legend2_line2d.append(mlines.Line2D([0], [0],\n",
    "                                    linestyle='none',\n",
    "                                    marker='o',\n",
    "                                    alpha=0.6,\n",
    "                                    markersize=np.sqrt(1000),\n",
    "                                    markerfacecolor='#D3D3D3'))\n",
    "legend2_line2d.append(mlines.Line2D([0], [0],\n",
    "                                    linestyle='none',\n",
    "                                    marker='o',\n",
    "                                    alpha=0.6,\n",
    "                                    markersize=np.sqrt(10000),\n",
    "                                    markerfacecolor='#D3D3D3'))\n",
    "\n",
    "legend2 = ax.legend(legend2_line2d,\n",
    "                    ['1', '10', '100'],\n",
    "                    title='Population (in 100,000)',\n",
    "                    numpoints=1,\n",
    "                    fontsize=20,\n",
    "                    loc='upper left',\n",
    "                    frameon=False,  # no edges\n",
    "                    labelspacing=3,  # increase space between labels\n",
    "                    handlelength=5,  # increase space between objects\n",
    "                    borderpad=4)  # increase the margins of the legend\n",
    "fig.gca().add_artist(legend1)\n",
    "plt.setp(legend2.get_title(), fontsize=22)  # increasing the legend font\n",
    "\n",
    "fig  # calling figure shows fig."
   ]
  },
  {
   "cell_type": "markdown",
   "metadata": {},
   "source": [
    "* **Try it yourself!** Play with this plot! Change it as you'd like."
   ]
  },
  {
   "cell_type": "code",
   "execution_count": null,
   "metadata": {},
   "outputs": [],
   "source": [
    "import matplotlib.lines as mlines\n",
    "import matplotlib.pyplot as plt\n",
    "import numpy as np\n",
    "import pandas as pd\n",
    "\n",
    "data_brazil = pd.read_excel('data_ibge.xls', sheet_name=2)\n",
    "\n",
    "colors = ['#1b9e77',\n",
    "          '#d95f02',\n",
    "          '#7570b3',\n",
    "          '#e7298a',\n",
    "          '#66a61e']\n",
    "\n",
    "def attribute_color(region, colors):\n",
    "    reg_colors = {\n",
    "        'North': colors[0],\n",
    "        'Northeast': colors[1],\n",
    "        'Southeast': colors[2],\n",
    "        'South': colors[3],\n",
    "        'Central-West': colors[4]\n",
    "    }\n",
    "    return reg_colors.get(region, 'black')\n",
    "\n",
    "color_region = list()\n",
    "qty_states = len(data_brazil['Region'])\n",
    "\n",
    "for state in range(qty_states):\n",
    "    aux_color = attribute_color(data_brazil['Region'][state], colors)\n",
    "    color_region.append(aux_color)\n",
    "\n",
    "for idx, color in enumerate(color_region):\n",
    "    print(data_brazil['UF'][idx],\n",
    "          'is in region', data_brazil['Region'][idx],\n",
    "          'and receives the color', color)\n",
    "\n",
    "fig, ax = plt.subplots(figsize=(25, 20))\n",
    "ax.scatter(x=data_brazil['LifeExpec'],\n",
    "           y=data_brazil['GDPperCapita'],\n",
    "           s=data_brazil['PopX1000'],\n",
    "           c=color_region,\n",
    "           alpha=0.6)\n",
    "\n",
    "ax.set_title('Brazilian development in 2013, according to each state',\n",
    "          fontsize=22)\n",
    "ax.set_xlabel('Life expectancy (years)', fontsize=22)\n",
    "ax.set_ylabel('GDP per capita (R$)', fontsize=22)\n",
    "ax.grid(True)\n",
    "\n",
    "for state in range(len(data_brazil['UF'])):\n",
    "    ax.text(x=data_brazil['LifeExpec'][state],\n",
    "            y=data_brazil['GDPperCapita'][state],\n",
    "            s=data_brazil['UF'][state],\n",
    "            fontsize=16)\n",
    "\n",
    "regions = ['North',\n",
    "           'Northeast',\n",
    "           'Southeast',\n",
    "           'South',\n",
    "           'Central-West']\n",
    "\n",
    "legend1_line2d = list()\n",
    "for step in range(len(colors)):\n",
    "    legend1_line2d.append(mlines.Line2D([0], [0],\n",
    "                                        linestyle='none',\n",
    "                                        marker='o',\n",
    "                                        alpha=0.6,\n",
    "                                        markersize=15,\n",
    "                                        markerfacecolor=colors[step]))\n",
    "\n",
    "legend1 = ax.legend(legend1_line2d,\n",
    "                    regions,\n",
    "                    numpoints=1,\n",
    "                    fontsize=22,\n",
    "                    loc='lower right',\n",
    "                    shadow=True)\n",
    "\n",
    "legend2_line2d = list()\n",
    "legend2_line2d.append(mlines.Line2D([0], [0],\n",
    "                                    linestyle='none',\n",
    "                                    marker='o',\n",
    "                                    alpha=0.6,\n",
    "                                    markersize=np.sqrt(100),\n",
    "                                    markerfacecolor='#D3D3D3'))\n",
    "legend2_line2d.append(mlines.Line2D([0], [0],\n",
    "                                    linestyle='none',\n",
    "                                    marker='o',\n",
    "                                    alpha=0.6,\n",
    "                                    markersize=np.sqrt(1000),\n",
    "                                    markerfacecolor='#D3D3D3'))\n",
    "legend2_line2d.append(mlines.Line2D([0], [0],\n",
    "                                    linestyle='none',\n",
    "                                    marker='o',\n",
    "                                    alpha=0.6,\n",
    "                                    markersize=np.sqrt(10000),\n",
    "                                    markerfacecolor='#D3D3D3'))\n",
    "\n",
    "legend2 = ax.legend(legend2_line2d,\n",
    "                    ['1', '10', '100'],\n",
    "                    title='Population (in 100,000)',\n",
    "                    numpoints=1,\n",
    "                    fontsize=20,\n",
    "                    loc='upper left',\n",
    "                    frameon=False,  # no edges\n",
    "                    labelspacing=3,  # increase space between labels\n",
    "                    handlelength=5,  # increase space between objects\n",
    "                    borderpad=4)  # increase the margins of the legend\n",
    "fig.gca().add_artist(legend1)\n",
    "plt.setp(legend2.get_title(), fontsize=22)  # increasing the legend font"
   ]
  }
 ],
 "metadata": {
  "kernelspec": {
   "display_name": "Python 3",
   "language": "python",
   "name": "python3"
  },
  "language_info": {
   "codemirror_mode": {
    "name": "ipython",
    "version": 3
   },
   "file_extension": ".py",
   "mimetype": "text/x-python",
   "name": "python",
   "nbconvert_exporter": "python",
   "pygments_lexer": "ipython3",
   "version": "3.6.5"
  }
 },
 "nbformat": 4,
 "nbformat_minor": 2
}
